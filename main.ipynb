{
 "cells": [
  {
   "cell_type": "code",
   "execution_count": 5,
   "id": "fbc2574e",
   "metadata": {},
   "outputs": [],
   "source": [
    "import torch\n",
    "from torchvision import datasets, transforms\n",
    "from torch.utils.data import DataLoader"
   ]
  },
  {
   "cell_type": "code",
   "execution_count": null,
   "id": "7cb11d63",
   "metadata": {},
   "outputs": [
    {
     "name": "stdout",
     "output_type": "stream",
     "text": [
      "torch.Size([32, 3, 224, 224])\n",
      "torch.Size([32])\n"
     ]
    }
   ],
   "source": [
    "# Define transforms (resize, normalize, convert to tensor)\n",
    "transform = transforms.Compose([\n",
    "    transforms.Resize((224, 224)),\n",
    "    transforms.ToTensor(),\n",
    "    transforms.Normalize(mean=[0.5]*3, std=[0.5]*3)  # Normalize RGB\n",
    "])\n",
    "\n",
    "# Load dataset\n",
    "dataset = datasets.ImageFolder(root=r'G:\\My Drive\\Coding Stuff\\PROJECTS\\braintumour\\archive\\brain_tumor_dataset', transform=transform)\n",
    "\n",
    "# Wrap in DataLoader\n",
    "dataloader = DataLoader(dataset, batch_size=32, shuffle=True)\n",
    "\n",
    "# Example: iterate through one batch\n",
    "for images, labels in dataloader:\n",
    "    print(images.shape)  # [32, 3, 224, 224]\n",
    "    print(labels.shape)  # [32]\n",
    "    break"
   ]
  },
  {
   "cell_type": "code",
   "execution_count": 10,
   "id": "4b135a77",
   "metadata": {},
   "outputs": [
    {
     "name": "stdout",
     "output_type": "stream",
     "text": [
      "['no', 'yes']\n",
      "{'no': 0, 'yes': 1}\n"
     ]
    }
   ],
   "source": [
    "print(dataset.classes)\n",
    "print(dataset.class_to_idx)\n"
   ]
  },
  {
   "cell_type": "code",
   "execution_count": 19,
   "id": "13f697b7",
   "metadata": {},
   "outputs": [
    {
     "name": "stdout",
     "output_type": "stream",
     "text": [
      " 100% |█████████████████| 253/253 [178.4ms elapsed, 0s remaining, 1.5K samples/s]  \n"
     ]
    },
    {
     "ename": "ValueError",
     "evalue": "Remote sessions cannot be run from a notebook",
     "output_type": "error",
     "traceback": [
      "\u001b[1;31m---------------------------------------------------------------------------\u001b[0m",
      "\u001b[1;31mValueError\u001b[0m                                Traceback (most recent call last)",
      "Cell \u001b[1;32mIn[19], line 11\u001b[0m\n\u001b[0;32m      4\u001b[0m \u001b[38;5;28mdir\u001b[39m \u001b[38;5;241m=\u001b[39m \u001b[38;5;124mr\u001b[39m\u001b[38;5;124m'\u001b[39m\u001b[38;5;124mG:\u001b[39m\u001b[38;5;124m\\\u001b[39m\u001b[38;5;124mMy Drive\u001b[39m\u001b[38;5;124m\\\u001b[39m\u001b[38;5;124mCoding Stuff\u001b[39m\u001b[38;5;124m\\\u001b[39m\u001b[38;5;124mPROJECTS\u001b[39m\u001b[38;5;124m\\\u001b[39m\u001b[38;5;124mbraintumour\u001b[39m\u001b[38;5;124m\\\u001b[39m\u001b[38;5;124marchive\u001b[39m\u001b[38;5;124m\\\u001b[39m\u001b[38;5;124mbrain_tumor_dataset\u001b[39m\u001b[38;5;124m'\u001b[39m\n\u001b[0;32m      6\u001b[0m dataset \u001b[38;5;241m=\u001b[39m fo\u001b[38;5;241m.\u001b[39mDataset\u001b[38;5;241m.\u001b[39mfrom_dir(\n\u001b[0;32m      7\u001b[0m     dataset_type\u001b[38;5;241m=\u001b[39mfo\u001b[38;5;241m.\u001b[39mtypes\u001b[38;5;241m.\u001b[39mImageClassificationDirectoryTree,\n\u001b[0;32m      8\u001b[0m     dataset_dir\u001b[38;5;241m=\u001b[39m\u001b[38;5;28mdir\u001b[39m\n\u001b[0;32m      9\u001b[0m )\n\u001b[1;32m---> 11\u001b[0m session \u001b[38;5;241m=\u001b[39m \u001b[43mfo\u001b[49m\u001b[38;5;241;43m.\u001b[39;49m\u001b[43mlaunch_app\u001b[49m\u001b[43m(\u001b[49m\u001b[43mdataset\u001b[49m\u001b[43m,\u001b[49m\u001b[43m \u001b[49m\u001b[43mremote\u001b[49m\u001b[38;5;241;43m=\u001b[39;49m\u001b[38;5;28;43;01mTrue\u001b[39;49;00m\u001b[43m,\u001b[49m\u001b[43m \u001b[49m\u001b[43mauto\u001b[49m\u001b[38;5;241;43m=\u001b[39;49m\u001b[38;5;28;43;01mFalse\u001b[39;49;00m\u001b[43m)\u001b[49m\n",
      "File \u001b[1;32mc:\\Users\\Inigo\\anaconda3\\Lib\\site-packages\\fiftyone\\core\\session\\session.py:192\u001b[0m, in \u001b[0;36mlaunch_app\u001b[1;34m(dataset, view, sample_id, group_id, spaces, color_scheme, plots, port, address, remote, browser, height, auto, config)\u001b[0m\n\u001b[0;32m    149\u001b[0m \u001b[38;5;250m\u001b[39m\u001b[38;5;124;03m\"\"\"Launches the FiftyOne App.\u001b[39;00m\n\u001b[0;32m    150\u001b[0m \n\u001b[0;32m    151\u001b[0m \u001b[38;5;124;03mNote that only one App instance can be opened at a time. If this method is\u001b[39;00m\n\u001b[1;32m   (...)\u001b[0m\n\u001b[0;32m    189\u001b[0m \u001b[38;5;124;03m    a :class:`Session`\u001b[39;00m\n\u001b[0;32m    190\u001b[0m \u001b[38;5;124;03m\"\"\"\u001b[39;00m\n\u001b[0;32m    191\u001b[0m \u001b[38;5;28;01mglobal\u001b[39;00m _session  \u001b[38;5;66;03m# pylint: disable=global-statement\u001b[39;00m\n\u001b[1;32m--> 192\u001b[0m _session \u001b[38;5;241m=\u001b[39m \u001b[43mSession\u001b[49m\u001b[43m(\u001b[49m\n\u001b[0;32m    193\u001b[0m \u001b[43m    \u001b[49m\u001b[43mdataset\u001b[49m\u001b[38;5;241;43m=\u001b[39;49m\u001b[43mdataset\u001b[49m\u001b[43m,\u001b[49m\n\u001b[0;32m    194\u001b[0m \u001b[43m    \u001b[49m\u001b[43mview\u001b[49m\u001b[38;5;241;43m=\u001b[39;49m\u001b[43mview\u001b[49m\u001b[43m,\u001b[49m\n\u001b[0;32m    195\u001b[0m \u001b[43m    \u001b[49m\u001b[43msample_id\u001b[49m\u001b[38;5;241;43m=\u001b[39;49m\u001b[43msample_id\u001b[49m\u001b[43m,\u001b[49m\n\u001b[0;32m    196\u001b[0m \u001b[43m    \u001b[49m\u001b[43mgroup_id\u001b[49m\u001b[38;5;241;43m=\u001b[39;49m\u001b[43mgroup_id\u001b[49m\u001b[43m,\u001b[49m\n\u001b[0;32m    197\u001b[0m \u001b[43m    \u001b[49m\u001b[43mspaces\u001b[49m\u001b[38;5;241;43m=\u001b[39;49m\u001b[43mspaces\u001b[49m\u001b[43m,\u001b[49m\n\u001b[0;32m    198\u001b[0m \u001b[43m    \u001b[49m\u001b[43mcolor_scheme\u001b[49m\u001b[38;5;241;43m=\u001b[39;49m\u001b[43mcolor_scheme\u001b[49m\u001b[43m,\u001b[49m\n\u001b[0;32m    199\u001b[0m \u001b[43m    \u001b[49m\u001b[43mplots\u001b[49m\u001b[38;5;241;43m=\u001b[39;49m\u001b[43mplots\u001b[49m\u001b[43m,\u001b[49m\n\u001b[0;32m    200\u001b[0m \u001b[43m    \u001b[49m\u001b[43mport\u001b[49m\u001b[38;5;241;43m=\u001b[39;49m\u001b[43mport\u001b[49m\u001b[43m,\u001b[49m\n\u001b[0;32m    201\u001b[0m \u001b[43m    \u001b[49m\u001b[43maddress\u001b[49m\u001b[38;5;241;43m=\u001b[39;49m\u001b[43maddress\u001b[49m\u001b[43m,\u001b[49m\n\u001b[0;32m    202\u001b[0m \u001b[43m    \u001b[49m\u001b[43mremote\u001b[49m\u001b[38;5;241;43m=\u001b[39;49m\u001b[43mremote\u001b[49m\u001b[43m,\u001b[49m\n\u001b[0;32m    203\u001b[0m \u001b[43m    \u001b[49m\u001b[43mbrowser\u001b[49m\u001b[38;5;241;43m=\u001b[39;49m\u001b[43mbrowser\u001b[49m\u001b[43m,\u001b[49m\n\u001b[0;32m    204\u001b[0m \u001b[43m    \u001b[49m\u001b[43mheight\u001b[49m\u001b[38;5;241;43m=\u001b[39;49m\u001b[43mheight\u001b[49m\u001b[43m,\u001b[49m\n\u001b[0;32m    205\u001b[0m \u001b[43m    \u001b[49m\u001b[43mauto\u001b[49m\u001b[38;5;241;43m=\u001b[39;49m\u001b[43mauto\u001b[49m\u001b[43m,\u001b[49m\n\u001b[0;32m    206\u001b[0m \u001b[43m    \u001b[49m\u001b[43mconfig\u001b[49m\u001b[38;5;241;43m=\u001b[39;49m\u001b[43mconfig\u001b[49m\u001b[43m,\u001b[49m\n\u001b[0;32m    207\u001b[0m \u001b[43m\u001b[49m\u001b[43m)\u001b[49m\n\u001b[0;32m    209\u001b[0m \u001b[38;5;28;01mif\u001b[39;00m _session\u001b[38;5;241m.\u001b[39mremote:\n\u001b[0;32m    210\u001b[0m     logger\u001b[38;5;241m.\u001b[39minfo(_REMOTE_INSTRUCTIONS\u001b[38;5;241m.\u001b[39mstrip()\u001b[38;5;241m.\u001b[39mformat(_session\u001b[38;5;241m.\u001b[39mserver_port))\n",
      "File \u001b[1;32mc:\\Users\\Inigo\\anaconda3\\Lib\\site-packages\\fiftyone\\core\\session\\session.py:441\u001b[0m, in \u001b[0;36mSession.__init__\u001b[1;34m(self, dataset, view, sample_id, group_id, spaces, color_scheme, plots, port, address, remote, browser, height, auto, config, view_name)\u001b[0m\n\u001b[0;32m    439\u001b[0m \u001b[38;5;28;01mif\u001b[39;00m \u001b[38;5;28mself\u001b[39m\u001b[38;5;241m.\u001b[39mremote:\n\u001b[0;32m    440\u001b[0m     \u001b[38;5;28;01mif\u001b[39;00m focx\u001b[38;5;241m.\u001b[39mis_notebook_context():\n\u001b[1;32m--> 441\u001b[0m         \u001b[38;5;28;01mraise\u001b[39;00m \u001b[38;5;167;01mValueError\u001b[39;00m(\n\u001b[0;32m    442\u001b[0m             \u001b[38;5;124m\"\u001b[39m\u001b[38;5;124mRemote sessions cannot be run from a notebook\u001b[39m\u001b[38;5;124m\"\u001b[39m\n\u001b[0;32m    443\u001b[0m         )\n\u001b[0;32m    445\u001b[0m     \u001b[38;5;28;01mreturn\u001b[39;00m\n\u001b[0;32m    447\u001b[0m \u001b[38;5;28;01mif\u001b[39;00m \u001b[38;5;129;01mnot\u001b[39;00m focx\u001b[38;5;241m.\u001b[39mis_notebook_context():\n",
      "\u001b[1;31mValueError\u001b[0m: Remote sessions cannot be run from a notebook"
     ]
    }
   ],
   "source": [
    "import fiftyone as fo\n",
    "import fiftyone.zoo as foz\n",
    "\n",
    "dir = r'G:\\My Drive\\Coding Stuff\\PROJECTS\\braintumour\\archive\\brain_tumor_dataset'\n",
    "\n",
    "dataset = fo.Dataset.from_dir(\n",
    "    dataset_type=fo.types.ImageClassificationDirectoryTree,\n",
    "    dataset_dir=dir\n",
    ")\n",
    "\n",
    "session = fo.launch_app(dataset, remote=True, auto=False)\n"
   ]
  },
  {
   "cell_type": "code",
   "execution_count": null,
   "id": "75cc30ae",
   "metadata": {},
   "outputs": [],
   "source": []
  }
 ],
 "metadata": {
  "kernelspec": {
   "display_name": "base",
   "language": "python",
   "name": "python3"
  },
  "language_info": {
   "codemirror_mode": {
    "name": "ipython",
    "version": 3
   },
   "file_extension": ".py",
   "mimetype": "text/x-python",
   "name": "python",
   "nbconvert_exporter": "python",
   "pygments_lexer": "ipython3",
   "version": "3.11.7"
  }
 },
 "nbformat": 4,
 "nbformat_minor": 5
}
